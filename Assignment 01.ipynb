{
 "cells": [
  {
   "cell_type": "markdown",
   "metadata": {},
   "source": [
    "<img src=\"http://cfs22.simplicdn.net/ice9/new_logo.svgz \"/>\n",
    "\n",
    "# Assignment 01: Evaluate the GDP Dataset\n",
    "\n",
    "*The comments/sections provided are your cues to perform the assignment. You don't need to limit yourself to the number of rows/cells provided. You can add additional rows in each section to add more lines of code.*\n",
    "\n",
    "*If at any point in time you need help on solving this assignment, view our demo video to understand the different steps of the code.*\n",
    "\n",
    "**Happy coding!**\n",
    "\n",
    "* * *"
   ]
  },
  {
   "cell_type": "markdown",
   "metadata": {},
   "source": [
    "#### 1: View and add the dataset"
   ]
  },
  {
   "cell_type": "code",
   "execution_count": 2,
   "metadata": {
    "tags": []
   },
   "outputs": [],
   "source": [
    "#Import required library\n",
    "import numpy as np"
   ]
  },
  {
   "cell_type": "code",
   "execution_count": 4,
   "metadata": {
    "tags": []
   },
   "outputs": [],
   "source": [
    "#Manually add the dataset\n",
    "countries = np.array(['Algeria','Angola','Argentina','Australia','Austria','Bahamas','Bangladesh','Belarus','Belgium','Bhutan','Brazil','Bulgaria','Cambodia','Cameroon','Chile','China','Colombia','Cyprus','Denmark','El Salvador','Estonia','Ethiopia','Fiji','Finland','France','Georgia','Ghana','Grenada','Guinea','Haiti','Honduras','Hungary','India','Indonesia','Ireland','Italy','Japan','Kenya', 'South Korea','Liberia','Malaysia','Mexico', 'Morocco','Nepal','New Zealand','Norway','Pakistan', 'Peru','Qatar','Russia','Singapore','South Africa','Spain','Sweden','Switzerland','Thailand', 'United Arab Emirates','United Kingdom','United States','Uruguay','Venezuela','Vietnam','Zimbabwe'])\n",
    "GDP_each_country = np.array([2255.225482,629.9553062,11601.63022,25306.82494,27266.40335,19466.99052,588.3691778,2890.345675,24733.62696,1445.760002,4803.398244,2618.876037,590.4521124,665.7982328,7122.938458,2639.54156,3362.4656,15378.16704,30860.12808,2579.115607,6525.541272,229.6769525,2242.689259,27570.4852,23016.84778,1334.646773,402.6953275,6047.200797,394.1156638,385.5793827,1414.072488,5745.981529,837.7464011,1206.991065,27715.52837,18937.24998,39578.07441,478.2194906,16684.21278,279.2204061,5345.213415,6288.25324,1908.304416,274.8728621,14646.42094,40034.85063,672.1547506,3359.517402,36152.66676,3054.727742,33529.83052,3825.093781,15428.32098,33630.24604,39170.41371,2699.123242,21058.43643,28272.40661,37691.02733,9581.05659,5671.912202,757.4009286,347.7456605])"
   ]
  },
  {
   "cell_type": "markdown",
   "metadata": {},
   "source": [
    "#### 2: Find and print the name of the country with the highest GDP"
   ]
  },
  {
   "cell_type": "code",
   "execution_count": 5,
   "metadata": {
    "collapsed": false,
    "jupyter": {
     "outputs_hidden": false
    }
   },
   "outputs": [
    {
     "name": "stdout",
     "output_type": "stream",
     "text": [
      "40034.85063\n"
     ]
    }
   ],
   "source": [
    "#Use the argmax() method to find the highest GDP\n",
    "h_GDP = np.argmax(GDP_each_country)\n",
    "print(GDP_each_country[h_GDP])"
   ]
  },
  {
   "cell_type": "code",
   "execution_count": 6,
   "metadata": {
    "tags": []
   },
   "outputs": [
    {
     "name": "stdout",
     "output_type": "stream",
     "text": [
      "['Norway']\n"
     ]
    }
   ],
   "source": [
    "#Print the name of the country\n",
    "print(countries[h_GDP:h_GDP+1])"
   ]
  },
  {
   "cell_type": "markdown",
   "metadata": {},
   "source": [
    "#### 3: Find and print the name of the country with the lowest GDP"
   ]
  },
  {
   "cell_type": "code",
   "execution_count": 7,
   "metadata": {
    "tags": []
   },
   "outputs": [
    {
     "name": "stdout",
     "output_type": "stream",
     "text": [
      "229.6769525\n"
     ]
    }
   ],
   "source": [
    "#Use the argmin() method to find the lowest GDP\n",
    "l_GDP = np.argmin(GDP_each_country)\n",
    "print(GDP_each_country[l_GDP])"
   ]
  },
  {
   "cell_type": "code",
   "execution_count": 8,
   "metadata": {
    "tags": []
   },
   "outputs": [
    {
     "name": "stdout",
     "output_type": "stream",
     "text": [
      "['Ethiopia']\n"
     ]
    }
   ],
   "source": [
    "#Print the name of the country\n",
    "print(countries[l_GDP:l_GDP+1])"
   ]
  },
  {
   "cell_type": "markdown",
   "metadata": {},
   "source": [
    "#### 4: Print out text ('evaluating country') and input value ('country name') iteratively"
   ]
  },
  {
   "cell_type": "code",
   "execution_count": 12,
   "metadata": {
    "collapsed": false,
    "jupyter": {
     "outputs_hidden": false
    }
   },
   "outputs": [
    {
     "name": "stdout",
     "output_type": "stream",
     "text": [
      "Current evaluating country {}  Algeria\n",
      "Current evaluating country {}  Angola\n",
      "Current evaluating country {}  Argentina\n",
      "Current evaluating country {}  Australia\n",
      "Current evaluating country {}  Austria\n",
      "Current evaluating country {}  Bahamas\n",
      "Current evaluating country {}  Bangladesh\n",
      "Current evaluating country {}  Belarus\n",
      "Current evaluating country {}  Belgium\n",
      "Current evaluating country {}  Bhutan\n",
      "Current evaluating country {}  Brazil\n",
      "Current evaluating country {}  Bulgaria\n",
      "Current evaluating country {}  Cambodia\n",
      "Current evaluating country {}  Cameroon\n",
      "Current evaluating country {}  Chile\n",
      "Current evaluating country {}  China\n",
      "Current evaluating country {}  Colombia\n",
      "Current evaluating country {}  Cyprus\n",
      "Current evaluating country {}  Denmark\n",
      "Current evaluating country {}  El Salvador\n",
      "Current evaluating country {}  Estonia\n",
      "Current evaluating country {}  Ethiopia\n",
      "Current evaluating country {}  Fiji\n",
      "Current evaluating country {}  Finland\n",
      "Current evaluating country {}  France\n",
      "Current evaluating country {}  Georgia\n",
      "Current evaluating country {}  Ghana\n",
      "Current evaluating country {}  Grenada\n",
      "Current evaluating country {}  Guinea\n",
      "Current evaluating country {}  Haiti\n",
      "Current evaluating country {}  Honduras\n",
      "Current evaluating country {}  Hungary\n",
      "Current evaluating country {}  India\n",
      "Current evaluating country {}  Indonesia\n",
      "Current evaluating country {}  Ireland\n",
      "Current evaluating country {}  Italy\n",
      "Current evaluating country {}  Japan\n",
      "Current evaluating country {}  Kenya\n",
      "Current evaluating country {}  South Korea\n",
      "Current evaluating country {}  Liberia\n",
      "Current evaluating country {}  Malaysia\n",
      "Current evaluating country {}  Mexico\n",
      "Current evaluating country {}  Morocco\n",
      "Current evaluating country {}  Nepal\n",
      "Current evaluating country {}  New Zealand\n",
      "Current evaluating country {}  Norway\n",
      "Current evaluating country {}  Pakistan\n",
      "Current evaluating country {}  Peru\n",
      "Current evaluating country {}  Qatar\n",
      "Current evaluating country {}  Russia\n",
      "Current evaluating country {}  Singapore\n",
      "Current evaluating country {}  South Africa\n",
      "Current evaluating country {}  Spain\n",
      "Current evaluating country {}  Sweden\n",
      "Current evaluating country {}  Switzerland\n",
      "Current evaluating country {}  Thailand\n",
      "Current evaluating country {}  United Arab Emirates\n",
      "Current evaluating country {}  United Kingdom\n",
      "Current evaluating country {}  United States\n",
      "Current evaluating country {}  Uruguay\n",
      "Current evaluating country {}  Venezuela\n",
      "Current evaluating country {}  Vietnam\n",
      "Current evaluating country {}  Zimbabwe\n"
     ]
    }
   ],
   "source": [
    "#Use a for loop to print the required output\n",
    "for country in countries :\n",
    "    print('Current evaluating country {} ',format(country))\n"
   ]
  },
  {
   "cell_type": "markdown",
   "metadata": {},
   "source": [
    "#### 5: Print out the entire list of the countries with their GDPs"
   ]
  },
  {
   "cell_type": "code",
   "execution_count": 13,
   "metadata": {
    "collapsed": false,
    "jupyter": {
     "outputs_hidden": false
    }
   },
   "outputs": [
    {
     "name": "stdout",
     "output_type": "stream",
     "text": [
      "Country \t \t GDP\n",
      "['Algeria'] \t \t [2255.225482]\n",
      "['Angola'] \t \t [629.9553062]\n",
      "['Argentina'] \t \t [11601.63022]\n",
      "['Australia'] \t \t [25306.82494]\n",
      "['Austria'] \t \t [27266.40335]\n",
      "['Bahamas'] \t \t [19466.99052]\n",
      "['Bangladesh'] \t \t [588.3691778]\n",
      "['Belarus'] \t \t [2890.345675]\n",
      "['Belgium'] \t \t [24733.62696]\n",
      "['Bhutan'] \t \t [1445.760002]\n",
      "['Brazil'] \t \t [4803.398244]\n",
      "['Bulgaria'] \t \t [2618.876037]\n",
      "['Cambodia'] \t \t [590.4521124]\n",
      "['Cameroon'] \t \t [665.7982328]\n",
      "['Chile'] \t \t [7122.938458]\n",
      "['China'] \t \t [2639.54156]\n",
      "['Colombia'] \t \t [3362.4656]\n",
      "['Cyprus'] \t \t [15378.16704]\n",
      "['Denmark'] \t \t [30860.12808]\n",
      "['El Salvador'] \t \t [2579.115607]\n",
      "['Estonia'] \t \t [6525.541272]\n",
      "['Ethiopia'] \t \t [229.6769525]\n",
      "['Fiji'] \t \t [2242.689259]\n",
      "['Finland'] \t \t [27570.4852]\n",
      "['France'] \t \t [23016.84778]\n",
      "['Georgia'] \t \t [1334.646773]\n",
      "['Ghana'] \t \t [402.6953275]\n",
      "['Grenada'] \t \t [6047.200797]\n",
      "['Guinea'] \t \t [394.1156638]\n",
      "['Haiti'] \t \t [385.5793827]\n",
      "['Honduras'] \t \t [1414.072488]\n",
      "['Hungary'] \t \t [5745.981529]\n",
      "['India'] \t \t [837.7464011]\n",
      "['Indonesia'] \t \t [1206.991065]\n",
      "['Ireland'] \t \t [27715.52837]\n",
      "['Italy'] \t \t [18937.24998]\n",
      "['Japan'] \t \t [39578.07441]\n",
      "['Kenya'] \t \t [478.2194906]\n",
      "['South Korea'] \t \t [16684.21278]\n",
      "['Liberia'] \t \t [279.2204061]\n",
      "['Malaysia'] \t \t [5345.213415]\n",
      "['Mexico'] \t \t [6288.25324]\n",
      "['Morocco'] \t \t [1908.304416]\n",
      "['Nepal'] \t \t [274.8728621]\n",
      "['New Zealand'] \t \t [14646.42094]\n",
      "['Norway'] \t \t [40034.85063]\n",
      "['Pakistan'] \t \t [672.1547506]\n",
      "['Peru'] \t \t [3359.517402]\n",
      "['Qatar'] \t \t [36152.66676]\n",
      "['Russia'] \t \t [3054.727742]\n",
      "['Singapore'] \t \t [33529.83052]\n",
      "['South Africa'] \t \t [3825.093781]\n",
      "['Spain'] \t \t [15428.32098]\n",
      "['Sweden'] \t \t [33630.24604]\n",
      "['Switzerland'] \t \t [39170.41371]\n",
      "['Thailand'] \t \t [2699.123242]\n",
      "['United Arab Emirates'] \t \t [21058.43643]\n",
      "['United Kingdom'] \t \t [28272.40661]\n",
      "['United States'] \t \t [37691.02733]\n",
      "['Uruguay'] \t \t [9581.05659]\n",
      "['Venezuela'] \t \t [5671.912202]\n",
      "['Vietnam'] \t \t [757.4009286]\n",
      "['Zimbabwe'] \t \t [347.7456605]\n"
     ]
    }
   ],
   "source": [
    "#Use a for loop to print the required list\n",
    "print(\"Country\",\"\\t\",\"\\t\",\"GDP\")\n",
    "l = len(countries)\n",
    "for i in range(0,l,1) :\n",
    "    print(countries[i:i+1],\"\\t\",\"\\t\",GDP_each_country[i:i+1])"
   ]
  },
  {
   "cell_type": "markdown",
   "metadata": {},
   "source": [
    "#### 6: Print the following:\n",
    "1. Highest GPD value\n",
    "2. Lowest GDP value\n",
    "3. Mean GDP value\n",
    "4. Standardized GDP value\n",
    "5. Sum of all the GDPs"
   ]
  },
  {
   "cell_type": "code",
   "execution_count": 14,
   "metadata": {
    "tags": []
   },
   "outputs": [
    {
     "name": "stdout",
     "output_type": "stream",
     "text": [
      "Highest GDP Value is                40034.85063\n",
      "Lowest GDP Value is                 229.6769525\n",
      "Mean GDP Value is                   11289.409271639683\n",
      "Standard Deviation GDP Value is     12743.828910617945\n",
      "Sum of all GDPs                     711232.7841133\n"
     ]
    }
   ],
   "source": [
    "print(\"Highest GDP Value is               \",np.max(GDP_each_country))\n",
    "print(\"Lowest GDP Value is                \",np.min(GDP_each_country))\n",
    "print(\"Mean GDP Value is                  \",np.mean(GDP_each_country))\n",
    "print(\"Standard Deviation GDP Value is    \",np.std(GDP_each_country))\n",
    "print(\"Sum of all GDPs                    \",np.sum(GDP_each_country))"
   ]
  },
  {
   "cell_type": "code",
   "execution_count": null,
   "metadata": {},
   "outputs": [],
   "source": []
  }
 ],
 "metadata": {
  "kernelspec": {
   "display_name": "Python 3",
   "language": "python",
   "name": "python3"
  },
  "language_info": {
   "codemirror_mode": {
    "name": "ipython",
    "version": 3
   },
   "file_extension": ".py",
   "mimetype": "text/x-python",
   "name": "python",
   "nbconvert_exporter": "python",
   "pygments_lexer": "ipython3",
   "version": "3.7.6"
  }
 },
 "nbformat": 4,
 "nbformat_minor": 4
}
